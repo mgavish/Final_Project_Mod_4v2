{
 "cells": [
  {
   "cell_type": "markdown",
   "metadata": {},
   "source": [
    "#### Transfer Learning + Image Data Augmentation + Early Stopping\n",
    "monitoring fbeta"
   ]
  },
  {
   "cell_type": "markdown",
   "metadata": {},
   "source": [
    "#### monitor fbeta instead of loss and save model"
   ]
  },
  {
   "cell_type": "code",
   "execution_count": 1,
   "metadata": {},
   "outputs": [
    {
     "name": "stderr",
     "output_type": "stream",
     "text": [
      "Using TensorFlow backend.\n"
     ]
    }
   ],
   "source": [
    "import os, sys\n",
    "\n",
    "\n",
    "import pandas as pd\n",
    "pd.options.display.max_rows\n",
    "\n",
    "import numpy as np\n",
    "from numpy import ones\n",
    "from numpy import zeros\n",
    "from numpy import asarray\n",
    "from numpy import savez_compressed\n",
    "from numpy import load\n",
    "\n",
    "import matplotlib.pyplot as plt\n",
    "from matplotlib.image import imread\n",
    "import seaborn as sns\n",
    "\n",
    "from sklearn.model_selection import train_test_split\n",
    "from sklearn.model_selection import cross_val_score\n",
    "from sklearn.model_selection import KFold\n",
    "from sklearn.preprocessing import StandardScaler\n",
    "from sklearn.pipeline import Pipeline\n",
    "from sklearn import preprocessing\n",
    "from sklearn.metrics import fbeta_score\n",
    "\n",
    "\n",
    "from keras.models import Sequential\n",
    "from keras.layers import Dense, Flatten, MaxPooling2D, Conv2D, Activation, Dropout, GlobalAveragePooling2D\n",
    "from keras.preprocessing.image import ImageDataGenerator, array_to_img, img_to_array, load_img\n",
    "from keras import optimizers\n",
    "from keras.preprocessing.image import load_img\n",
    "from keras.preprocessing.image import img_to_array\n",
    "from keras import backend\n",
    "from keras.optimizers import SGD\n",
    "\n",
    "import cv2"
   ]
  },
  {
   "cell_type": "code",
   "execution_count": 2,
   "metadata": {},
   "outputs": [],
   "source": [
    "from keras.applications.vgg16 import VGG16\n",
    "from keras.applications.vgg16 import preprocess_input\n",
    "from keras.models import Model\n",
    "\n",
    "import tensorflow as tf\n",
    "\n",
    "import h5py"
   ]
  },
  {
   "cell_type": "code",
   "execution_count": 3,
   "metadata": {},
   "outputs": [],
   "source": [
    "from keras.callbacks import EarlyStopping, ModelCheckpoint\n"
   ]
  },
  {
   "cell_type": "code",
   "execution_count": 4,
   "metadata": {},
   "outputs": [
    {
     "name": "stdout",
     "output_type": "stream",
     "text": [
      "Requirement already satisfied: h5py in /usr/local/lib/python3.5/dist-packages (2.10.0)\n",
      "Requirement already satisfied: numpy>=1.7 in /usr/local/lib/python3.5/dist-packages (from h5py) (1.17.2)\n",
      "Requirement already satisfied: six in /usr/local/lib/python3.5/dist-packages (from h5py) (1.12.0)\n",
      "Note: you may need to restart the kernel to use updated packages.\n"
     ]
    }
   ],
   "source": [
    "pip install h5py"
   ]
  },
  {
   "cell_type": "code",
   "execution_count": 5,
   "metadata": {},
   "outputs": [],
   "source": [
    "# load train and test dataset\n",
    "def load_dataset():\n",
    "    # load dataset\n",
    "    data = load('planet_data.npz')\n",
    "    X, y = data['arr_0'], data['arr_1']\n",
    "    # separate into train and test datasets\n",
    "    trainX, testX, trainY, testY = train_test_split(X, y, test_size=0.3, random_state=1)\n",
    "    print(trainX.shape, trainY.shape, testX.shape, testY.shape)\n",
    "    return trainX, trainY, testX, testY\n",
    "\n",
    "\n",
    "# calculate fbeta score for multi-class/label classification\n",
    "def fbeta(y_true, y_pred, beta=2):\n",
    "    # clip predictions\n",
    "    y_pred = backend.clip(y_pred, 0, 1)\n",
    "    # calculate elements\n",
    "    tp = backend.sum(backend.round(backend.clip(y_true * y_pred, 0, 1)), axis=1)\n",
    "    fp = backend.sum(backend.round(backend.clip(y_pred - y_true, 0, 1)), axis=1)\n",
    "    fn = backend.sum(backend.round(backend.clip(y_true - y_pred, 0, 1)), axis=1)\n",
    "    # calculate precision\n",
    "    p = tp / (tp + fp + backend.epsilon())\n",
    "    # calculate recall\n",
    "    r = tp / (tp + fn + backend.epsilon())\n",
    "    # calculate fbeta, averaged across each class\n",
    "    bb = beta ** 2\n",
    "    fbeta_score = backend.mean((1 + bb) * (p * r) / (bb * p + r + backend.epsilon()))\n",
    "    return fbeta_score"
   ]
  },
  {
   "cell_type": "code",
   "execution_count": 6,
   "metadata": {},
   "outputs": [
    {
     "name": "stdout",
     "output_type": "stream",
     "text": [
      "CPU times: user 0 ns, sys: 0 ns, total: 0 ns\n",
      "Wall time: 6.68 µs\n"
     ]
    }
   ],
   "source": [
    "%%time\n",
    "\n",
    "# vgg16 transfer learning on the planet dataset\n",
    "\n",
    "# define cnn model\n",
    "def define_model(in_shape=(128, 128, 3), out_shape=17):\n",
    "\t# load model\n",
    "\tmodel = VGG16(include_top=False, input_shape=in_shape)\n",
    "\t# mark loaded layers as not trainable\n",
    "\tfor layer in model.layers:\n",
    "\t\tlayer.trainable = False\n",
    "\t# allow last vgg block to be trainable -- fine tuning\n",
    "\tmodel.get_layer('block5_conv1').trainable = True\n",
    "\tmodel.get_layer('block5_conv2').trainable = True\n",
    "\tmodel.get_layer('block5_conv3').trainable = True\n",
    "\tmodel.get_layer('block5_pool').trainable = True\n",
    "\t# add new classifier layers\n",
    "\tflat1 = Flatten()(model.layers[-1].output)\n",
    "\tclass1 = Dense(128, activation='relu', kernel_initializer='he_uniform')(flat1)\n",
    "\toutput = Dense(out_shape, activation='sigmoid')(class1)\n",
    "\t# define new model\n",
    "\tmodel = Model(inputs=model.inputs, outputs=output)\n",
    "\t# compile model\n",
    "\topt = SGD(lr=0.01, momentum=0.9)\n",
    "\tmodel.compile(optimizer=opt, loss='binary_crossentropy', metrics=[fbeta])\n",
    "\treturn model\n"
   ]
  },
  {
   "cell_type": "code",
   "execution_count": 7,
   "metadata": {},
   "outputs": [],
   "source": [
    "# plot diagnostic learning curves\n",
    "def summarize_diagnostics(history):\n",
    "\t# plot loss\n",
    "\tplt.subplot(211)\n",
    "\tplt.title('Cross Entropy Loss')\n",
    "\tplt.plot(history.history['loss'], color='blue', label='train')\n",
    "\tplt.plot(history.history['val_loss'], color='orange', label='test')\n",
    "\t# plot accuracy\n",
    "\tplt.subplot(212)\n",
    "\tplt.title('Fbeta')\n",
    "\tplt.plot(history.history['fbeta'], color='blue', label='train')\n",
    "\tplt.plot(history.history['val_fbeta'], color='orange', label='test')\n",
    "\n"
   ]
  },
  {
   "cell_type": "code",
   "execution_count": 8,
   "metadata": {},
   "outputs": [],
   "source": [
    "# run the test harness for evaluating a model\n",
    "def run_test_harness():\n",
    "    # load dataset\n",
    "    trainX, trainY, testX, testY = load_dataset()\n",
    "    # create data generator\n",
    "    train_datagen = ImageDataGenerator(featurewise_center=True, horizontal_flip=True, vertical_flip=True, rotation_range=90)\n",
    "    test_datagen = ImageDataGenerator(featurewise_center=True)\n",
    "    # specify imagenet mean values for centering\n",
    "    train_datagen.mean = [123.68, 116.779, 103.939]\n",
    "    test_datagen.mean = [123.68, 116.779, 103.939]\n",
    "    # prepare iterators\n",
    "    train_it = train_datagen.flow(trainX, trainY, batch_size=128)\n",
    "    test_it = test_datagen.flow(testX, testY, batch_size=128)\n",
    "    # define model\n",
    "    model = define_model()\n",
    "    # fit model\n",
    "    \n",
    "    es = EarlyStopping(monitor = 'fbeta', mode='max', verbose=1, patience = 5)\n",
    "    mc = ModelCheckpoint('best_model_acc.h5', monitor='val_accuracy', mode='max', verbose=1)\n",
    "    \n",
    "    history = model.fit_generator(train_it, steps_per_epoch=len(train_it),\n",
    "        validation_data=test_it, validation_steps=len(test_it), epochs=50, verbose=1, callbacks = [es, mc])\n",
    "    # evaluate model\n",
    "    loss, fbeta = model.evaluate_generator(test_it, steps=len(test_it), verbose=0 )\n",
    "    print('> loss=%.3f, fbeta=%.3f' % (loss, fbeta))\n",
    "    # learning curves\n",
    "    summarize_diagnostics(history)"
   ]
  },
  {
   "cell_type": "code",
   "execution_count": 9,
   "metadata": {},
   "outputs": [
    {
     "name": "stdout",
     "output_type": "stream",
     "text": [
      "(28335, 128, 128, 3) (28335, 17) (12144, 128, 128, 3) (12144, 17)\n",
      "\n",
      "Epoch 00001: saving model to best_model_acc.h5\n",
      "\n",
      "Epoch 00002: saving model to best_model_acc.h5\n",
      "\n",
      "Epoch 00003: saving model to best_model_acc.h5\n",
      "\n",
      "Epoch 00004: saving model to best_model_acc.h5\n",
      "\n",
      "Epoch 00005: saving model to best_model_acc.h5\n",
      "\n",
      "Epoch 00006: saving model to best_model_acc.h5\n",
      "\n",
      "Epoch 00007: saving model to best_model_acc.h5\n",
      "\n",
      "Epoch 00008: saving model to best_model_acc.h5\n",
      "\n",
      "Epoch 00009: saving model to best_model_acc.h5\n",
      "\n",
      "Epoch 00010: saving model to best_model_acc.h5\n",
      "\n",
      "Epoch 00011: saving model to best_model_acc.h5\n",
      "\n",
      "Epoch 00012: saving model to best_model_acc.h5\n",
      "\n",
      "Epoch 00013: saving model to best_model_acc.h5\n",
      "\n",
      "Epoch 00014: saving model to best_model_acc.h5\n",
      "\n",
      "Epoch 00015: saving model to best_model_acc.h5\n",
      "\n",
      "Epoch 00016: saving model to best_model_acc.h5\n",
      "\n",
      "Epoch 00017: saving model to best_model_acc.h5\n",
      "\n",
      "Epoch 00018: saving model to best_model_acc.h5\n",
      "\n",
      "Epoch 00019: saving model to best_model_acc.h5\n",
      "\n",
      "Epoch 00020: saving model to best_model_acc.h5\n",
      "\n",
      "Epoch 00021: saving model to best_model_acc.h5\n",
      "\n",
      "Epoch 00022: saving model to best_model_acc.h5\n",
      "\n",
      "Epoch 00023: saving model to best_model_acc.h5\n",
      "\n",
      "Epoch 00024: saving model to best_model_acc.h5\n",
      "\n",
      "Epoch 00025: saving model to best_model_acc.h5\n",
      "\n",
      "Epoch 00026: saving model to best_model_acc.h5\n",
      "\n",
      "Epoch 00027: saving model to best_model_acc.h5\n",
      "\n",
      "Epoch 00028: saving model to best_model_acc.h5\n",
      "\n",
      "Epoch 00029: saving model to best_model_acc.h5\n",
      "\n",
      "Epoch 00030: saving model to best_model_acc.h5\n",
      "\n",
      "Epoch 00031: saving model to best_model_acc.h5\n",
      "\n",
      "Epoch 00032: saving model to best_model_acc.h5\n",
      "\n",
      "Epoch 00033: saving model to best_model_acc.h5\n",
      "\n",
      "Epoch 00034: saving model to best_model_acc.h5\n",
      "\n",
      "Epoch 00035: saving model to best_model_acc.h5\n",
      "\n",
      "Epoch 00036: saving model to best_model_acc.h5\n",
      "\n",
      "Epoch 00037: saving model to best_model_acc.h5\n",
      "\n",
      "Epoch 00038: saving model to best_model_acc.h5\n",
      "\n",
      "Epoch 00039: saving model to best_model_acc.h5\n",
      "\n",
      "Epoch 00040: saving model to best_model_acc.h5\n",
      "\n",
      "Epoch 00041: saving model to best_model_acc.h5\n",
      "\n",
      "Epoch 00042: saving model to best_model_acc.h5\n",
      "\n",
      "Epoch 00043: saving model to best_model_acc.h5\n",
      "\n",
      "Epoch 00044: saving model to best_model_acc.h5\n",
      "\n",
      "Epoch 00045: saving model to best_model_acc.h5\n",
      "\n",
      "Epoch 00046: saving model to best_model_acc.h5\n",
      "\n",
      "Epoch 00047: saving model to best_model_acc.h5\n",
      "\n",
      "Epoch 00048: saving model to best_model_acc.h5\n",
      "\n",
      "Epoch 00049: saving model to best_model_acc.h5\n",
      "\n",
      "Epoch 00050: saving model to best_model_acc.h5\n",
      "> loss=0.081, fbeta=0.897\n",
      "CPU times: user 7d 3h 50min 19s, sys: 9h 16min 18s, total: 7d 13h 6min 38s\n",
      "Wall time: 23h 40min 6s\n"
     ]
    },
    {
     "data": {
      "image/png": "[encoded data removed]",
      "text/plain": [
       "<Figure size 432x288 with 2 Axes>"
      ]
     },
     "metadata": {
      "needs_background": "light"
     },
     "output_type": "display_data"
    }
   ],
   "source": [
    "%%time\n",
    "\n",
    "# entry point, run the test harness\n",
    "run_test_harness()\n"
   ]
  },
  {
   "cell_type": "code",
   "execution_count": null,
   "metadata": {},
   "outputs": [],
   "source": []
  }
 ],
 "metadata": {
  "kernelspec": {
   "display_name": "Python 3",
   "language": "python",
   "name": "python3"
  },
  "language_info": {
   "codemirror_mode": {
    "name": "ipython",
    "version": 3
   },
   "file_extension": ".py",
   "mimetype": "text/x-python",
   "name": "python",
   "nbconvert_exporter": "python",
   "pygments_lexer": "ipython3",
   "version": "3.6.9"
  },
  "toc": {
   "base_numbering": 1,
   "nav_menu": {},
   "number_sections": true,
   "sideBar": true,
   "skip_h1_title": false,
   "title_cell": "Table of Contents",
   "title_sidebar": "Contents",
   "toc_cell": false,
   "toc_position": {},
   "toc_section_display": true,
   "toc_window_display": false
  },
  "varInspector": {
   "cols": {
    "lenName": 16,
    "lenType": 16,
    "lenVar": 40
   },
   "kernels_config": {
    "python": {
     "delete_cmd_postfix": "",
     "delete_cmd_prefix": "del ",
     "library": "var_list.py",
     "varRefreshCmd": "print(var_dic_list())"
    },
    "r": {
     "delete_cmd_postfix": ") ",
     "delete_cmd_prefix": "rm(",
     "library": "var_list.r",
     "varRefreshCmd": "cat(var_dic_list()) "
    }
   },
   "types_to_exclude": [
    "module",
    "function",
    "builtin_function_or_method",
    "instance",
    "_Feature"
   ],
   "window_display": false
  }
 },
 "nbformat": 4,
 "nbformat_minor": 4
}
